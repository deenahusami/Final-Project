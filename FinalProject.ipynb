{
 "cells": [
  {
   "cell_type": "code",
   "execution_count": 19,
   "id": "bd0486ae",
   "metadata": {},
   "outputs": [
    {
     "name": "stdout",
     "output_type": "stream",
     "text": [
      "Input a file name:pimpernel.txt\n"
     ]
    },
    {
     "data": {
      "text/plain": [
       "<_io.TextIOWrapper name='pimpernel.txt' mode='r' encoding='UTF-8'>"
      ]
     },
     "execution_count": 19,
     "metadata": {},
     "output_type": "execute_result"
    }
   ],
   "source": [
    "def open_file():\n",
    "    input_readable = False\n",
    "    while input_readable == False:\n",
    "        #opening and reading the file\n",
    "        try: \n",
    "            f = input(\"Input a file name:\")\n",
    "            fp = open(f, \"r\")\n",
    "            while fp:\n",
    "                return fp\n",
    "        #error statement if file cannot be found\n",
    "        except FileNotFoundError:\n",
    "            print(\"Something went wrong when opening this file. Try Again.\")\n",
    "        else:\n",
    "            input_readable = True\n",
    "\n",
    "open_file()"
   ]
  },
  {
   "cell_type": "code",
   "execution_count": 20,
   "id": "c5d313bb",
   "metadata": {},
   "outputs": [
    {
     "name": "stdout",
     "output_type": "stream",
     "text": [
      "Input a file name:pimpernel.txt\n"
     ]
    },
    {
     "data": {
      "text/plain": [
       "{'they': [1, 2],\n",
       " 'seek': [1, 2, 3],\n",
       " 'him': [1, 2, 3],\n",
       " 'here': [1, 2, 3],\n",
       " 'there': [2],\n",
       " 'those': [3],\n",
       " 'frenchies': [3],\n",
       " 'everywhere': [3]}"
      ]
     },
     "execution_count": 20,
     "metadata": {},
     "output_type": "execute_result"
    }
   ],
   "source": [
    "var = open_file()\n",
    "\n",
    "def read_data(fp):\n",
    "\n",
    "    fp=fp.readlines()\n",
    "    #making everything lowercase\n",
    "    for i in range(len(fp)):\n",
    "        for word in fp[i]:\n",
    "            fp[i]=fp[i].replace(word,word.lower())\n",
    "    #getting rid of punctuation\n",
    "    import string\n",
    "    punctuations = string.punctuation\n",
    "    for i in range(len(fp)):\n",
    "        for word in fp[i]:\n",
    "            if word in punctuations:\n",
    "                fp[i]=fp[i].replace(word,\"\")\n",
    "    #only dealing with alpha characters\n",
    "    for i in range(len(fp)):\n",
    "        for word in fp[i]:\n",
    "            words=[word for word in fp[i] if word.isalpha()]\n",
    "            result=''.join(words)\n",
    "    #spliting into words\n",
    "    #split=fp.read().replace(\"\\n\",\"\").split(' ')\n",
    "    [i.split(' ', 1)[0] for i in fp]\n",
    "    \n",
    "    for h in range(len(fp)):\n",
    "        fp[h] = fp[h].replace('\\n','')\n",
    "\n",
    "    \n",
    "\n",
    "    \n",
    "    #creating the dictionary\n",
    "    def dictionary(fp):\n",
    "        words=[]\n",
    "        oldD={}\n",
    "        for line in fp:\n",
    "            words=words+line.split(' ')\n",
    "\n",
    "        for j in words:\n",
    "            if j not in oldD:\n",
    "                oldD[j]=[]\n",
    "                for i in range(len(fp)):\n",
    "                    if j in fp[i]:\n",
    "                        oldD[j].append(i+1)\n",
    "        D = {k:oldD[k] for k in oldD if len(k)>=2}\n",
    "        return (D)\n",
    "    c=dictionary(fp)\n",
    "    return (c)\n",
    "\n",
    "    return(fp)\n",
    "var2 = read_data(var)\n",
    "var2"
   ]
  },
  {
   "cell_type": "code",
   "execution_count": 21,
   "id": "54fab626",
   "metadata": {},
   "outputs": [],
   "source": [
    "def find_cooccurance(D, inp_str):\n",
    "    #splitting the input\n",
    "    ls=inp_str.split(\" \")\n",
    "    #various print statements for formatting\n",
    "    print(\"The co-occurance for:\", ls)\n",
    "    print(\"Lines: \")\n",
    "    #making sure that what is inputed is in the dictionary\n",
    "    for i in ls:\n",
    "        if i not in D.keys():\n",
    "            print(\"None\")\n",
    "            return\n",
    "    #making the output the intersected values of D\n",
    "    #getting the intersection of the keys of D and the inputed words\n",
    "    intersect = D.keys() & ls\n",
    "    #empty variables for later\n",
    "    result= []\n",
    "    final = []\n",
    "    #finding how many words were inputed\n",
    "    amount_of_words = len(intersect)\n",
    "    #adding the values of D corresponding to the inputed words into result (empty list)\n",
    "    for word in intersect:\n",
    "        number = D[word]\n",
    "        result.append(number)\n",
    "    #converting result into a string\n",
    "    string1 = ' '.join(str(e) for e in result)\n",
    "    #for each character in the string, only work with the numbers\n",
    "    for char in string1:\n",
    "        if char.isnumeric() == True:\n",
    "            #initializing counter variable\n",
    "            counter = 0\n",
    "            for x in range(len(string1)):\n",
    "                if string1[x] == char:\n",
    "                    counter += 1 \n",
    "            if counter == amount_of_words:\n",
    "                if char not in final:\n",
    "                    final.append(char)\n",
    "    print(final)\n",
    "    return final\n",
    "\n"
   ]
  },
  {
   "cell_type": "code",
   "execution_count": 22,
   "id": "21d0e35a",
   "metadata": {},
   "outputs": [
    {
     "name": "stdout",
     "output_type": "stream",
     "text": [
      "Input a file name:pimpernel.txt\n",
      "Enter space-seperated words: q\n"
     ]
    }
   ],
   "source": [
    "def main():\n",
    "    fp=open_file()\n",
    "    d=read_data(fp)\n",
    "    inp=\"\"\n",
    "    while True:\n",
    "        inp=input(\"Enter space-seperated words: \")\n",
    "        if inp=='q' or inp=='Q':\n",
    "            break\n",
    "        find_cooccurance(var2, inp)\n",
    "\n",
    "if __name__==\"__main__\":\n",
    "    main()"
   ]
  },
  {
   "cell_type": "code",
   "execution_count": 24,
   "id": "af2b477d",
   "metadata": {},
   "outputs": [
    {
     "name": "stdout",
     "output_type": "stream",
     "text": [
      "Input a file name:pimpernel.txt\n",
      "Enter space-seperated words: they seek\n",
      "The co-occurance for: ['they', 'seek']\n",
      "Lines: \n",
      "['1', '2']\n",
      "Enter space-seperated words: him here\n",
      "The co-occurance for: ['him', 'here']\n",
      "Lines: \n",
      "['1', '2', '3']\n",
      "Enter space-seperated words: here him seek\n",
      "The co-occurance for: ['here', 'him', 'seek']\n",
      "Lines: \n",
      "['1', '2', '3']\n",
      "Enter space-seperated words: everywhere\n",
      "The co-occurance for: ['everywhere']\n",
      "Lines: \n",
      "['3']\n",
      "Enter space-seperated words: Q\n"
     ]
    }
   ],
   "source": [
    "main()"
   ]
  }
 ],
 "metadata": {
  "kernelspec": {
   "display_name": "Python 3 (ipykernel)",
   "language": "python",
   "name": "python3"
  },
  "language_info": {
   "codemirror_mode": {
    "name": "ipython",
    "version": 3
   },
   "file_extension": ".py",
   "mimetype": "text/x-python",
   "name": "python",
   "nbconvert_exporter": "python",
   "pygments_lexer": "ipython3",
   "version": "3.9.7"
  }
 },
 "nbformat": 4,
 "nbformat_minor": 5
}
